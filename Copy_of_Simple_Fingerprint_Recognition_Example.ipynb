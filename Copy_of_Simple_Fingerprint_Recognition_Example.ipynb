{
  "cells": [
    {
      "cell_type": "code",
      "execution_count": null,
      "metadata": {
        "id": "LSe9qJ63zw_E"
      },
      "outputs": [],
      "source": [
        "# from os import path\n",
        "# if not path.exists('utils.py'): # If running on colab: the first time download and unzip additional files\n",
        "#     !wget https://biolab.csr.unibo.it/samples/fr/files.zip\n",
        "#     !unzip files.zip"
      ]
    },
    {
      "cell_type": "code",
      "execution_count": null,
      "metadata": {
        "id": "YeLvNYrGzGU0"
      },
      "outputs": [],
      "source": [
        "from pathlib import Path\n",
        "Path.cwd()"
      ]
    },
    {
      "cell_type": "code",
      "execution_count": null,
      "metadata": {
        "id": "g7Pxow1HRRin"
      },
      "outputs": [],
      "source": [
        "import math\n",
        "import numpy as np\n",
        "import cv2 as cv\n",
        "import matplotlib.pyplot as plt\n",
        "from utils import *\n",
        "from ipywidgets import interact"
      ]
    },
    {
      "cell_type": "markdown",
      "metadata": {
        "id": "QgMXnN9wSgrS"
      },
      "source": [
        "# Step 1: Fingerprint segmentation"
      ]
    },
    {
      "cell_type": "markdown",
      "metadata": {
        "id": "zBPJPaK4VGo_"
      },
      "source": [
        "First of all we load a fingerprint image: it will be stored in memory as a NumPy array."
      ]
    },
    {
      "cell_type": "code",
      "execution_count": null,
      "metadata": {
        "id": "Ia5ZqH3USUJW"
      },
      "outputs": [],
      "source": [
        "fingerprint = cv.imread('samples/sample_1_1.png', cv.IMREAD_GRAYSCALE)\n",
        "show(fingerprint, f'Fingerprint with size (w,h): {fingerprint.shape[::-1]}')"
      ]
    },
    {
      "cell_type": "markdown",
      "metadata": {
        "id": "A-AbzbyEXOVz"
      },
      "source": [
        "The segmentation step is aimed at separating the fingerprint area (foreground) from the background.\n",
        "The foreground is characterized by the presence of a striped and oriented pattern; background presents a uniform pattern.   \n",
        "We will use a very simple technique based on the magnitude of the local gradient."
      ]
    },
    {
      "cell_type": "code",
      "execution_count": null,
      "metadata": {
        "id": "wpgIAkrBsnvw"
      },
      "outputs": [],
      "source": [
        "# Calculate the local gradient (using Sobel filters)\n",
        "gx, gy = cv.Sobel(fingerprint, cv.CV_32F, 1, 0), cv.Sobel(fingerprint, cv.CV_32F, 0, 1)\n",
        "show((gx, 'Gx'), (gy, 'Gy'))"
      ]
    },
    {
      "cell_type": "code",
      "execution_count": null,
      "metadata": {
        "id": "LQ1s0yjIs8j4"
      },
      "outputs": [],
      "source": [
        "# Calculate the magnitude of the gradient for each pixel\n",
        "gx2, gy2 = gx**2, gy**2\n",
        "gm = np.sqrt(gx2 + gy2)\n",
        "show((gx2, 'Gx**2'), (gy2, 'Gy**2'), (gm, 'Gradient magnitude'))"
      ]
    },
    {
      "cell_type": "code",
      "execution_count": null,
      "metadata": {
        "id": "GPhP0Ubks_nA"
      },
      "outputs": [],
      "source": [
        "# Integral over a square window\n",
        "sum_gm = cv.boxFilter(gm, -1, (25, 25), normalize = False)\n",
        "show(sum_gm, 'Integral of the gradient magnitude')"
      ]
    },
    {
      "cell_type": "code",
      "execution_count": null,
      "metadata": {
        "id": "5YafVxEOtC_4"
      },
      "outputs": [],
      "source": [
        "# Use a simple threshold for segmenting the fingerprint pattern\n",
        "thr = sum_gm.max() * 0.2\n",
        "mask = cv.threshold(sum_gm, thr, 255, cv.THRESH_BINARY)[1].astype(np.uint8)\n",
        "show(fingerprint, mask, cv.merge((mask, fingerprint, fingerprint)))"
      ]
    },
    {
      "cell_type": "markdown",
      "metadata": {
        "id": "jJ2D5OHU6inW"
      },
      "source": [
        "# Step 2: Estimation of local ridge orientation"
      ]
    },
    {
      "cell_type": "markdown",
      "metadata": {
        "id": "x_ajHsYAYwCD"
      },
      "source": [
        "The local ridge orientation at $(j,i)$ is the angle $\\theta_{j,i}\\in[0,180°[$ that the fingerprint ridges form with the horizontal axis in an arbitrary small neighborhood centered in $(j,i)$.  \n",
        "For each pixel, we will estimate the local orientation from the gradient $[Gx,Gy]$, which we already computed in the segmentation step (see *A.M. Bazen and S.H. Gerez, \"Systematic methods for the computation of the directional fields and singular points of fingerprints,\" in IEEE tPAMI, July 2002*).  \n",
        "\n",
        "The ridge orientation is estimated as ortoghonal to the gradient orientation, averaged over a window $W$.  \n",
        "\n",
        "$G_{xx}=\\sum_W{G_x^2}$, $G_{yy}=\\sum_W{G_y^2}$, $G_{xy}=\\sum_W{G_xG_y}$\n",
        "\n",
        "$\\theta=\\frac{\\pi}{2} + \\frac{phase(G_{xx}-G_{yy}, 2G_{xy})}{2}$\n",
        "\n",
        "For each orientation, we will also calculate a confidence value (strength), which measures how much all gradients in $W$ share the same orientation.  \n",
        "\n",
        "$strength = \\frac{\\sqrt{(G_{xx}-G_{yy})^2+(2G_{xy})^2}}{G_{xx}+G_{yy}}$"
      ]
    },
    {
      "cell_type": "code",
      "execution_count": null,
      "metadata": {
        "id": "jnyEfap-tFSw"
      },
      "outputs": [],
      "source": [
        "W = (23, 23)\n",
        "gxx = cv.boxFilter(gx2, -1, W, normalize = False)\n",
        "gyy = cv.boxFilter(gy2, -1, W, normalize = False)\n",
        "gxy = cv.boxFilter(gx * gy, -1, W, normalize = False)\n",
        "gxx_gyy = gxx - gyy\n",
        "gxy2 = 2 * gxy\n",
        "\n",
        "orientations = (cv.phase(gxx_gyy, -gxy2) + np.pi) / 2 # '-' to adjust for y axis direction\n",
        "sum_gxx_gyy = gxx + gyy\n",
        "strengths = np.divide(cv.sqrt((gxx_gyy**2 + gxy2**2)), sum_gxx_gyy, out=np.zeros_like(gxx), where=sum_gxx_gyy!=0)\n",
        "show(draw_orientations(fingerprint, orientations, strengths, mask, 1, 16), 'Orientation image')"
      ]
    },
    {
      "cell_type": "markdown",
      "metadata": {
        "id": "SDHYsNmJ7TaV"
      },
      "source": [
        "# Step 3: Estimation of local ridge frequency"
      ]
    },
    {
      "cell_type": "markdown",
      "metadata": {
        "id": "zipQ1_Oy9m9c"
      },
      "source": [
        "The local ridge frequency $f_{j,i}$ at $(j,i)$ is the number of ridges per unit length along a hypothetical segment centered in $(j,i)$ and orthogonal to the local ridge orientation $\\theta_{j,i}$.\n",
        "\n",
        "For simplicity, we will assume a constant frequency over all the fingerprint and estimate its reciprocal (the ridge-line period) from a small region of the image."
      ]
    },
    {
      "cell_type": "code",
      "execution_count": null,
      "metadata": {
        "id": "ezc3YDWXCTEm"
      },
      "outputs": [],
      "source": [
        "region = fingerprint[10:90,80:130]\n",
        "show(region)"
      ]
    },
    {
      "cell_type": "markdown",
      "metadata": {
        "id": "HyxcfMbkQzlI"
      },
      "source": [
        "Then the *x-signature* is computed from the region and the ridge-line period is estimated as the average number of pixels between two consecutive peaks (see *L. Hong, Y. Wan and A. Jain, \"Fingerprint image enhancement: algorithm and performance evaluation,\" in IEEE tPAMI, Aug. 1998*)"
      ]
    },
    {
      "cell_type": "code",
      "execution_count": null,
      "metadata": {
        "id": "Pvv7fS0KQpJ3"
      },
      "outputs": [],
      "source": [
        "# before computing the x-signature, the region is smoothed to reduce noise\n",
        "smoothed = cv.blur(region, (5,5), -1)\n",
        "xs = np.sum(smoothed, 1) # the x-signature of the region\n",
        "print(xs)"
      ]
    },
    {
      "cell_type": "code",
      "execution_count": null,
      "metadata": {
        "id": "8-hQrph0DSZO"
      },
      "outputs": [],
      "source": [
        "x = np.arange(region.shape[0])\n",
        "f, axarr = plt.subplots(1,2, sharey = True)\n",
        "axarr[0].imshow(region,cmap='gray')\n",
        "axarr[1].plot(xs, x)\n",
        "axarr[1].set_ylim(region.shape[0]-1,0)\n",
        "plt.show()"
      ]
    },
    {
      "cell_type": "code",
      "execution_count": null,
      "metadata": {
        "id": "zrM-B9JKRXth"
      },
      "outputs": [],
      "source": [
        "# Find the indices of the x-signature local maxima\n",
        "local_maxima = np.nonzero(np.r_[False, xs[1:] > xs[:-1]] & np.r_[xs[:-1] >= xs[1:], False])[0]"
      ]
    },
    {
      "cell_type": "code",
      "execution_count": null,
      "metadata": {
        "id": "pasX1AILRQdq"
      },
      "outputs": [],
      "source": [
        "x = np.arange(region.shape[0])\n",
        "plt.plot(x, xs)\n",
        "plt.xticks(local_maxima)\n",
        "plt.grid(True, axis='x')\n",
        "plt.show()"
      ]
    },
    {
      "cell_type": "code",
      "execution_count": null,
      "metadata": {
        "id": "w6CPgUQgtYCo"
      },
      "outputs": [],
      "source": [
        "# Calculate all the distances between consecutive peaks\n",
        "distances = local_maxima[1:] - local_maxima[:-1]\n",
        "print(distances)"
      ]
    },
    {
      "cell_type": "code",
      "execution_count": null,
      "metadata": {
        "id": "QlfcrCgPVozS"
      },
      "outputs": [],
      "source": [
        "# Estimate the ridge line period as the average of the above distances\n",
        "ridge_period = np.average(distances)\n",
        "print(ridge_period)"
      ]
    },
    {
      "cell_type": "markdown",
      "metadata": {
        "id": "QShcuAYY7wd0"
      },
      "source": [
        "# Step 4: Fingerprint enhancement"
      ]
    },
    {
      "cell_type": "markdown",
      "metadata": {
        "id": "YJMz6wPlZqeD"
      },
      "source": [
        "In order to enhance the fingerprint pattern, we will perform a *contextual convolution* with a bank of Gabor filters.  \n",
        "In this simple example we are using a constant ridge-line frequency, hence all the filters will have the same period and the only parameter will be the number of orientations (or_count).  \n",
        "As it is a contextual convolution, a different filter should be applied to each pixel, according to the corresponding ridge-line orientation. Unfortunately this kind of operation is not available in OpenCV and implementing it in Python would be very inefficient; hence, we will apply all the filters to the whole image (that is, producing a filtered image for each filter) and then we will assemble the enhanced image taking the right pixel from each filtered image, using the discretized orientation indices as a lookup table."
      ]
    },
    {
      "cell_type": "code",
      "execution_count": null,
      "metadata": {
        "id": "htZDESSYtesf"
      },
      "outputs": [],
      "source": [
        "# Create the filter bank\n",
        "or_count = 8\n",
        "gabor_bank = [gabor_kernel(ridge_period, o) for o in np.arange(0, np.pi, np.pi/or_count)]"
      ]
    },
    {
      "cell_type": "code",
      "execution_count": null,
      "metadata": {
        "id": "l7Ldq1VNtgEQ"
      },
      "outputs": [],
      "source": [
        "show(*gabor_bank)"
      ]
    },
    {
      "cell_type": "code",
      "execution_count": null,
      "metadata": {
        "id": "gmeTXLIvthI_"
      },
      "outputs": [],
      "source": [
        "# Filter the whole image with each filter\n",
        "# Note that the negative image is actually used, to have white ridges on a black background as a result\n",
        "nf = 255-fingerprint\n",
        "all_filtered = np.array([cv.filter2D(nf, cv.CV_32F, f) for f in gabor_bank])\n",
        "show(nf, *all_filtered)"
      ]
    },
    {
      "cell_type": "code",
      "execution_count": null,
      "metadata": {
        "id": "usS93oHDt7VQ"
      },
      "outputs": [],
      "source": [
        "y_coords, x_coords = np.indices(fingerprint.shape)\n",
        "# For each pixel, find the index of the closest orientation in the gabor bank\n",
        "orientation_idx = np.round(((orientations % np.pi) / np.pi) * or_count).astype(np.int32) % or_count\n",
        "# Take the corresponding convolution result for each pixel, to assemble the final result\n",
        "filtered = all_filtered[orientation_idx, y_coords, x_coords]\n",
        "# Convert to gray scale and apply the mask\n",
        "enhanced = mask & np.clip(filtered, 0, 255).astype(np.uint8)\n",
        "show(fingerprint, enhanced)"
      ]
    },
    {
      "cell_type": "markdown",
      "metadata": {
        "id": "LQvHUusjyBfR"
      },
      "source": [
        "# Step 5: Detection of minutiae positions"
      ]
    },
    {
      "cell_type": "markdown",
      "metadata": {
        "id": "HeRmZHUuyzoO"
      },
      "source": [
        "In this simple example, minutiae will be detected from the *ridge line skeleton*, obtained by binarizing and thinning the enhanced ridge lines."
      ]
    },
    {
      "cell_type": "code",
      "execution_count": null,
      "metadata": {
        "id": "jmCPCdMFuCMe"
      },
      "outputs": [],
      "source": [
        "# Binarization\n",
        "_, ridge_lines = cv.threshold(enhanced, 32, 255, cv.THRESH_BINARY)\n",
        "show(fingerprint, ridge_lines, cv.merge((ridge_lines, fingerprint, fingerprint)))"
      ]
    },
    {
      "cell_type": "code",
      "execution_count": null,
      "metadata": {
        "id": "OtEgLkx7uE_e"
      },
      "outputs": [],
      "source": [
        "# Thinning\n",
        "skeleton = cv.ximgproc.thinning(ridge_lines, thinningType = cv.ximgproc.THINNING_GUOHALL)\n",
        "show(skeleton, cv.merge((fingerprint, fingerprint, skeleton)))"
      ]
    },
    {
      "cell_type": "markdown",
      "metadata": {
        "id": "RSGiRlE_zRqQ"
      },
      "source": [
        "Then, for each pixel $p$ of the skeleton, the *crossing number* $cn(p)$ is computed as the number of transitions from black to white pixels in its 8-neighborhood\n",
        "\n",
        "```\n",
        "   v[0] v[1] v[2]\n",
        "   v[7]   p  v[3]\n",
        "   v[6] v[5] v[4]\n",
        "```\n",
        "$cn(v)=\\sum_{i=0}^7\\begin{cases} 1 & \\mbox{if } v[i]<v[(i+1) \\mod 8] \\\\ 0 & \\mbox{otherwise} \\end{cases}$"
      ]
    },
    {
      "cell_type": "code",
      "execution_count": null,
      "metadata": {
        "id": "6JDVICmjuHDe"
      },
      "outputs": [],
      "source": [
        "def compute_crossing_number(values):\n",
        "    return np.count_nonzero(values < np.roll(values, -1))"
      ]
    },
    {
      "cell_type": "markdown",
      "metadata": {
        "id": "e2_KIMDJAHNj"
      },
      "source": [
        "To efficiently compute all the crossing numbers, a 3x3 filter is used to convert each possible 8-neighborhood into a byte value (by considering each pixel as a bit).  \n",
        "Then a lookup table maps each byte value [0,255] into the corresponding crossing number."
      ]
    },
    {
      "cell_type": "code",
      "execution_count": null,
      "metadata": {
        "id": "N8-Nw5yDuKBP"
      },
      "outputs": [],
      "source": [
        "# Create a filter that converts any 8-neighborhood into the corresponding byte value [0,255]\n",
        "cn_filter = np.array([[  1,  2,  4],\n",
        "                      [128,  0,  8],\n",
        "                      [ 64, 32, 16]\n",
        "                     ])"
      ]
    },
    {
      "cell_type": "code",
      "execution_count": null,
      "metadata": {
        "id": "u9MMhEfCuIw3"
      },
      "outputs": [],
      "source": [
        "# Create a lookup table that maps each byte value to the corresponding crossing number\n",
        "all_8_neighborhoods = [np.array([int(d) for d in f'{x:08b}'])[::-1] for x in range(256)]\n",
        "cn_lut = np.array([compute_crossing_number(x) for x in all_8_neighborhoods]).astype(np.uint8)"
      ]
    },
    {
      "cell_type": "code",
      "execution_count": null,
      "metadata": {
        "id": "7BkK40Ldz5kf"
      },
      "outputs": [],
      "source": [
        "cn_lut"
      ]
    },
    {
      "cell_type": "code",
      "execution_count": null,
      "metadata": {
        "id": "MAwvrp93yNdj"
      },
      "outputs": [],
      "source": [
        "a = all_8_neighborhoods[100]\n",
        "show(*[np.insert(a, 4, 2).reshape(3,-1) for a in all_8_neighborhoods], max_per_row = 16)"
      ]
    },
    {
      "cell_type": "code",
      "execution_count": null,
      "metadata": {
        "id": "_oQ1WBExuL8_"
      },
      "outputs": [],
      "source": [
        "# Skeleton: from 0/255 to 0/1 values\n",
        "skeleton01 = np.where(skeleton!=0, 1, 0).astype(np.uint8)\n",
        "# Apply the filter to encode the 8-neighborhood of each pixel into a byte [0,255]\n",
        "cn_values = cv.filter2D(skeleton01, -1, cn_filter, borderType = cv.BORDER_CONSTANT)\n",
        "# Apply the lookup table to obtain the crossing number of each pixel\n",
        "cn = cv.LUT(cn_values, cn_lut)\n",
        "# Keep only crossing numbers on the skeleton\n",
        "cn[skeleton==0] = 0"
      ]
    },
    {
      "cell_type": "code",
      "execution_count": null,
      "metadata": {
        "id": "gBYL_LDV1AL-"
      },
      "outputs": [],
      "source": [
        "terminations = np.zeros_like(cn)\n",
        "terminations[cn == 1] = 255\n",
        "biufurcations = np.zeros_like(cn)\n",
        "biufurcations[cn == 3] = 255\n",
        "show(skeleton, terminations, biufurcations)"
      ]
    },
    {
      "cell_type": "markdown",
      "metadata": {
        "id": "M7MrBLBaBLkC"
      },
      "source": [
        "The list of minutiae is finally obtained from the coordinates of pixels with crossing number 1 (terminations) or 3 (bifurcations).  \n",
        "Each minutia is stored as a tuple $(x, y, t)$ where $t$ is $true$ for terminations.  \n",
        "Note that, for now, we are not computing the minutiae *direction*, but only their location and type."
      ]
    },
    {
      "cell_type": "code",
      "execution_count": null,
      "metadata": {
        "id": "4NzceQaJuMk_"
      },
      "outputs": [],
      "source": [
        "# crossing number == 1 --> Termination, crossing number == 3 --> Bifurcation\n",
        "minutiae = [(x,y,cn[y,x]==1) for y, x in zip(*np.where(np.isin(cn, [1,3])))]"
      ]
    },
    {
      "cell_type": "code",
      "execution_count": null,
      "metadata": {
        "id": "_NUdi_JAuPVH"
      },
      "outputs": [],
      "source": [
        "show(draw_minutiae(fingerprint, minutiae), skeleton, draw_minutiae(skeleton, minutiae))"
      ]
    },
    {
      "cell_type": "markdown",
      "metadata": {
        "id": "5HkNFDvlB8XN"
      },
      "source": [
        "From the above image we can note that near the borders of the pattern many false minutiae are detected: we can remove them by computing the *distance transform* of the segmentation mask and choosing a threshold so that minutiae too close to the mask border are excluded."
      ]
    },
    {
      "cell_type": "code",
      "execution_count": null,
      "metadata": {
        "id": "VLWwRQBZuQo_"
      },
      "outputs": [],
      "source": [
        "# A 1-pixel background border is added to the mask before computing the distance transform\n",
        "mask_distance = cv.distanceTransform(cv.copyMakeBorder(mask, 1, 1, 1, 1, cv.BORDER_CONSTANT), cv.DIST_C, 3)[1:-1,1:-1]\n",
        "show(mask, mask_distance)"
      ]
    },
    {
      "cell_type": "code",
      "execution_count": null,
      "metadata": {
        "id": "4Sb6iyRFuUF_"
      },
      "outputs": [],
      "source": [
        "filtered_minutiae = list(filter(lambda m: mask_distance[m[1], m[0]]>7, minutiae))"
      ]
    },
    {
      "cell_type": "code",
      "execution_count": null,
      "metadata": {
        "id": "99BiKiH2uV5H"
      },
      "outputs": [],
      "source": [
        "show(draw_minutiae(fingerprint, filtered_minutiae), skeleton, draw_minutiae(skeleton, filtered_minutiae))"
      ]
    },
    {
      "cell_type": "markdown",
      "metadata": {
        "id": "_ZikeJ62zp-9"
      },
      "source": [
        "# Step 6: Estimation of minutiae directions"
      ]
    },
    {
      "cell_type": "markdown",
      "metadata": {
        "id": "oTZyOvB0zp-9"
      },
      "source": [
        "The direction of a termination will be computed by following the ridge-line until another minutia is found or a distance of 20 pixels has been traveled.  \n",
        "The direction of a bifurcation will be computed by considering the directions ($\\theta_1$, $\\theta_2$, $\\theta_3$) of its three branches and calculating the mean of the two closest ones ($\\theta_1$ and $\\theta_2$ in the example below).  \n",
        "Note that this is a simplified definition of minutiae direction, not completely consistent to the ISO standard minutiae-based template format, which is based on ridge and valley skeletons (see *ISO/IEC 19794-2, 2005*).\n",
        "\n",
        "<img src=\"https://biolab.csr.unibo.it/samples/fr/images/min_directions.png\">"
      ]
    },
    {
      "cell_type": "markdown",
      "metadata": {
        "id": "35mtZk3wzp-9"
      },
      "source": [
        "In order to follow the ridge-line, for each position on the skeleton, the position of the next pixel to be visited must be determined. In the following, the eight possible direction of movement will be encoded as integer numbers in [0,7], following the same ordering previously used for the 8-neighborhood of a pixel $p$:\n",
        "\n",
        "```\n",
        "   0  1  2\n",
        "   7  p  3\n",
        "   6  5  4\n",
        "```\n",
        "\n",
        "The following function, given the previous direction of movement and the values of the 8 neighboring pixels, returns the  directions towards neighboring skeleton pixels, excluding the previously-visited one. A special value (8) indicates that there is no previous direction: it will be used at the first step."
      ]
    },
    {
      "cell_type": "code",
      "execution_count": null,
      "metadata": {
        "id": "BIlQLqyjzp-9"
      },
      "outputs": [],
      "source": [
        "def compute_next_ridge_following_directions(previous_direction, values):\n",
        "    next_positions = np.argwhere(values!=0).ravel().tolist()\n",
        "    if len(next_positions) > 0 and previous_direction != 8:\n",
        "        # There is a previous direction: return all the next directions, sorted according to the distance from it,\n",
        "        #                                except the direction, if any, that corresponds to the previous position\n",
        "        next_positions.sort(key = lambda d: 4 - abs(abs(d - previous_direction) - 4))\n",
        "        if next_positions[-1] == (previous_direction + 4) % 8: # the direction of the previous position is the opposite one\n",
        "            next_positions = next_positions[:-1] # removes it\n",
        "    return next_positions"
      ]
    },
    {
      "cell_type": "markdown",
      "metadata": {
        "id": "kRernJlRzp-9"
      },
      "source": [
        "It is always a good idea to avoid unnecessary computations: the next cell prepares two look-up tables."
      ]
    },
    {
      "cell_type": "code",
      "execution_count": null,
      "metadata": {
        "id": "X24IjohPzp--",
        "scrolled": false
      },
      "outputs": [],
      "source": [
        "r2 = 2**0.5 # sqrt(2)\n",
        "\n",
        "# The eight possible (x, y) offsets with each corresponding Euclidean distance\n",
        "xy_steps = [(-1,-1,r2),( 0,-1,1),( 1,-1,r2),( 1, 0,1),( 1, 1,r2),( 0, 1,1),(-1, 1,r2),(-1, 0,1)]\n",
        "\n",
        "# LUT: for each 8-neighborhood and each previous direction [0,8],\n",
        "#      where 8 means \"none\", provides the list of possible directions\n",
        "nd_lut = [[compute_next_ridge_following_directions(pd, x) for pd in range(9)] for x in all_8_neighborhoods]"
      ]
    },
    {
      "cell_type": "markdown",
      "metadata": {
        "id": "d1prgjrRzp--"
      },
      "source": [
        "The next function follows the skeleton until another minutia is found or a distance of 20 pixels has been traveled. If a minimum length of 10 pixels has been reached, it returns the corresponding angle, otherwise it returns None."
      ]
    },
    {
      "cell_type": "code",
      "execution_count": null,
      "metadata": {
        "id": "nI3b5xgZzp--"
      },
      "outputs": [],
      "source": [
        "def follow_ridge_and_compute_angle(x, y, d = 8):\n",
        "    px, py = x, y\n",
        "    length = 0.0\n",
        "    while length < 20: # max length followed\n",
        "        next_directions = nd_lut[cn_values[py,px]][d]\n",
        "        if len(next_directions) == 0:\n",
        "            break\n",
        "        # Need to check ALL possible next directions\n",
        "        if (any(cn[py + xy_steps[nd][1], px + xy_steps[nd][0]] != 2 for nd in next_directions)):\n",
        "            break # another minutia found: we stop here\n",
        "        # Only the first direction has to be followed\n",
        "        d = next_directions[0]\n",
        "        ox, oy, l = xy_steps[d]\n",
        "        px += ox ; py += oy ; length += l\n",
        "    # check if the minimum length for a valid direction has been reached\n",
        "    return math.atan2(-py+y, px-x) if length >= 10 else None"
      ]
    },
    {
      "cell_type": "markdown",
      "metadata": {
        "id": "2uqrRgiqzp--"
      },
      "source": [
        "Finally, the cell below estimates all minutiae directions:\n",
        "- in case of a termination, it simply calls the previous function,\n",
        "- in case of a bifurcation, it follows the three branches and if all the three angles are valid, it computes the mean of the two closest ones.\n",
        "\n",
        "The list of minutiae is finally obtained, with each minutia stored as a tuple $(x, y, t, d)$ where $t$ is $true$ for terminations and $d$ is the minutia direction in radians."
      ]
    },
    {
      "cell_type": "code",
      "execution_count": null,
      "metadata": {
        "id": "4T5fvHFMzp--",
        "scrolled": false
      },
      "outputs": [],
      "source": [
        "valid_minutiae = []\n",
        "for x, y, term in filtered_minutiae:\n",
        "    d = None\n",
        "    if term: # termination: simply follow and compute the direction\n",
        "        d = follow_ridge_and_compute_angle(x, y)\n",
        "    else: # bifurcation: follow each of the three branches\n",
        "        dirs = nd_lut[cn_values[y,x]][8] # 8 means: no previous direction\n",
        "        if len(dirs)==3: # only if there are exactly three branches\n",
        "            angles = [follow_ridge_and_compute_angle(x+xy_steps[d][0], y+xy_steps[d][1], d) for d in dirs]\n",
        "            if all(a is not None for a in angles):\n",
        "                a1, a2 = min(((angles[i], angles[(i+1)%3]) for i in range(3)), key=lambda t: angle_abs_difference(t[0], t[1]))\n",
        "                d = angle_mean(a1, a2)\n",
        "    if d is not None:\n",
        "        valid_minutiae.append( (x, y, term, d) )"
      ]
    },
    {
      "cell_type": "code",
      "execution_count": null,
      "metadata": {
        "id": "8TccPjw_zp--"
      },
      "outputs": [],
      "source": [
        "show(draw_minutiae(fingerprint, valid_minutiae))"
      ]
    },
    {
      "cell_type": "markdown",
      "metadata": {
        "id": "gAnKIS9pzp-_"
      },
      "source": [
        "# Step 7: Creation of local structures"
      ]
    },
    {
      "cell_type": "markdown",
      "metadata": {
        "id": "_k4bqUCLzp-_"
      },
      "source": [
        "In this section, starting from minutiae positions and directions, we will create local structures invariant for translation and rotation, which can be used for comparing fingerprints without a pre-alignment step.  \n",
        "We will use a simplified version of Minutia Cylinder-Code (MCC, see *Minutia Cylinder-Code: a new representation and matching technique for fingerprint recognition\", IEEE tPAMI 2010*): while MCC local structures can be represented as 3D structures (cylinders), where the base encodes spatial relationships between minutiae and the height directional relationships, here we will consider only the base of the cylinders, which is rotated according to the minutia direction and discretized into a fixed number of cells.\n",
        "\n",
        "<img src=\"https://biolab.csr.unibo.it/samples/fr/images/simple_mcc.png\">\n"
      ]
    },
    {
      "cell_type": "code",
      "execution_count": null,
      "metadata": {
        "id": "0dm6Jlvizp-_"
      },
      "outputs": [],
      "source": [
        "# Compute the cell coordinates of a generic local structure\n",
        "mcc_radius = 70\n",
        "mcc_size = 16\n",
        "\n",
        "g = 2 * mcc_radius / mcc_size\n",
        "x = np.arange(mcc_size)*g - (mcc_size/2)*g + g/2\n",
        "y = x[..., np.newaxis]\n",
        "iy, ix = np.nonzero(x**2 + y**2 <= mcc_radius**2)\n",
        "ref_cell_coords = np.column_stack((x[ix], x[iy]))"
      ]
    },
    {
      "cell_type": "code",
      "execution_count": null,
      "metadata": {
        "id": "g0-NqFYezp-_"
      },
      "outputs": [],
      "source": [
        "mcc_sigma_s = 7.0\n",
        "mcc_tau_psi = 400.0\n",
        "mcc_mu_psi = 1e-2\n",
        "\n",
        "def Gs(t_sqr):\n",
        "    \"\"\"Gaussian function with zero mean and mcc_sigma_s standard deviation, see eq. (7) in MCC paper\"\"\"\n",
        "    return np.exp(-0.5 * t_sqr / (mcc_sigma_s**2)) / (math.tau**0.5 * mcc_sigma_s)\n",
        "\n",
        "def Psi(v):\n",
        "    \"\"\"Sigmoid function that limits the contribution of dense minutiae clusters, see eq. (4)-(5) in MCC paper\"\"\"\n",
        "    return 1. / (1. + np.exp(-mcc_tau_psi * (v - mcc_mu_psi)))"
      ]
    },
    {
      "cell_type": "code",
      "execution_count": null,
      "metadata": {
        "id": "zP32k1Drzp-_"
      },
      "outputs": [],
      "source": [
        "# n: number of minutiae\n",
        "# c: number of cells in a local structure\n",
        "\n",
        "xyd = np.array([(x,y,d) for x,y,_,d in valid_minutiae]) # matrix with all minutiae coordinates and directions (n x 3)\n",
        "\n",
        "# rot: n x 2 x 2 (rotation matrix for each minutia)\n",
        "d_cos, d_sin = np.cos(xyd[:,2]).reshape((-1,1,1)), np.sin(xyd[:,2]).reshape((-1,1,1))\n",
        "rot = np.block([[d_cos, d_sin], [-d_sin, d_cos]])\n",
        "\n",
        "# rot@ref_cell_coords.T : n x 2 x c\n",
        "# xy : n x 2\n",
        "xy = xyd[:,:2]\n",
        "# cell_coords: n x c x 2 (cell coordinates for each local structure)\n",
        "cell_coords = np.transpose(rot@ref_cell_coords.T + xy[:,:,np.newaxis],[0,2,1])\n",
        "\n",
        "# cell_coords[:,:,np.newaxis,:]      :  n x c  x 1 x 2\n",
        "# xy                                 : (1 x 1) x n x 2\n",
        "# cell_coords[:,:,np.newaxis,:] - xy :  n x c  x n x 2\n",
        "# dists: n x c x n (for each cell of each local structure, the distance from all minutiae)\n",
        "dists = np.sum((cell_coords[:,:,np.newaxis,:] - xy)**2, -1)\n",
        "\n",
        "# cs : n x c x n (the spatial contribution of each minutia to each cell of each local structure)\n",
        "cs = Gs(dists)\n",
        "diag_indices = np.arange(cs.shape[0])\n",
        "cs[diag_indices,:,diag_indices] = 0 # remove the contribution of each minutia to its own cells\n",
        "\n",
        "# local_structures : n x c (cell values for each local structure)\n",
        "local_structures = Psi(np.sum(cs, -1))"
      ]
    },
    {
      "cell_type": "code",
      "execution_count": null,
      "metadata": {
        "id": "GCn07G_0zp-_"
      },
      "outputs": [],
      "source": [
        "@interact(i=(0,len(valid_minutiae)-1))\n",
        "def test(i=0):\n",
        "    show(draw_minutiae_and_cylinder(fingerprint, ref_cell_coords, valid_minutiae, local_structures, i))"
      ]
    },
    {
      "cell_type": "markdown",
      "metadata": {
        "id": "h9G3SosVzp-_"
      },
      "source": [
        "# Step 8: Fingerprint comparison"
      ]
    },
    {
      "cell_type": "markdown",
      "metadata": {
        "id": "hCXKYeKQzp_A"
      },
      "source": [
        "We started from an image (*fingerprint*), obtained a list of minutiae (*valid_minutiae*) and their corresponding local structures (matrix *local_structures* with a row for each minutia):"
      ]
    },
    {
      "cell_type": "code",
      "execution_count": null,
      "metadata": {
        "id": "jPULw0vMzp_A"
      },
      "outputs": [],
      "source": [
        "print(f\"\"\"Fingerprint image: {fingerprint.shape[1]}x{fingerprint.shape[0]} pixels\n",
        "Minutiae: {len(valid_minutiae)}\n",
        "Local structures: {local_structures.shape}\"\"\")"
      ]
    },
    {
      "cell_type": "markdown",
      "metadata": {
        "id": "ITs90kerzp_A"
      },
      "source": [
        "In the following we will more concisely name them f1, m1, ls1:"
      ]
    },
    {
      "cell_type": "code",
      "execution_count": null,
      "metadata": {
        "id": "GEENB_yvzp_A"
      },
      "outputs": [],
      "source": [
        "f1, m1, ls1 = fingerprint, valid_minutiae, local_structures"
      ]
    },
    {
      "cell_type": "markdown",
      "metadata": {
        "id": "Epd26F55zp_A"
      },
      "source": [
        "Then we will load analogous data of another fingerprint: f2, m2, ls2"
      ]
    },
    {
      "cell_type": "code",
      "execution_count": null,
      "metadata": {
        "id": "_n5L3L22zp_A"
      },
      "outputs": [],
      "source": [
        "ofn = 'samples/sample_1_2' # Fingerprint of the same finger\n",
        "#ofn = 'samples/sample_2' # Fingerprint of a different finger\n",
        "f2, (m2, ls2) = cv.imread(f'{ofn}.png', cv.IMREAD_GRAYSCALE), np.load(f'{ofn}.npz', allow_pickle=True).values()"
      ]
    },
    {
      "cell_type": "markdown",
      "metadata": {
        "id": "q7FN911Nzp_B"
      },
      "source": [
        "The similarity between two local structures $r_1$ and $r_2$ can be simply computed as one minus their normalized Euclidean distance:\n",
        "\n",
        "$similarity(r_1, r_2) = 1 - \\frac {\\| r_1 - r_2 \\|}{\\|r_1\\| + \\|r_2\\|}$\n",
        "\n",
        "The following cell computes the matrix of all normalized Euclidean distances between local structures in ls1 and ls2."
      ]
    },
    {
      "cell_type": "code",
      "execution_count": null,
      "metadata": {
        "id": "hoYOwyAJzp_B"
      },
      "outputs": [],
      "source": [
        "# Compute all pairwise normalized Euclidean distances between local structures in v1 and v2\n",
        "# ls1                       : n1 x  c\n",
        "# ls1[:,np.newaxis,:]       : n1 x  1 x c\n",
        "# ls2                       : (1 x) n2 x c\n",
        "# ls1[:,np.newaxis,:] - ls2 : n1 x  n2 x c\n",
        "# dists                     : n1 x  n2\n",
        "dists = np.sqrt(np.sum((ls1[:,np.newaxis,:] - ls2)**2, -1))\n",
        "dists /= (np.sqrt(np.sum(ls1**2, 1))[:,np.newaxis] + np.sqrt(np.sum(ls2**2, 1))) # Normalize as in eq. (17) of MCC paper"
      ]
    },
    {
      "cell_type": "markdown",
      "metadata": {
        "id": "zkjSTKjBzp_B"
      },
      "source": [
        "In the next cell, we finally compare the two fingerprints by using the Local Similarity Sort (LSS) technique (see eq. 23 in the MCC paper), which simply selects the num_p highest similarities (i.e. the smallest distances) and compute the comparison *score* as their average. The indices of the corresponding minutia pairs are stored in *pairs*, and used in the last cell to show the result."
      ]
    },
    {
      "cell_type": "code",
      "execution_count": null,
      "metadata": {
        "id": "lYSeRY7-zp_B"
      },
      "outputs": [],
      "source": [
        "# Select the num_p pairs with the smallest distances (LSS technique)\n",
        "num_p = 5 # For simplicity: a fixed number of pairs\n",
        "pairs = np.unravel_index(np.argpartition(dists, num_p, None)[:num_p], dists.shape)\n",
        "score = 1 - np.mean(dists[pairs[0], pairs[1]]) # See eq. (23) in MCC paper\n",
        "print(f'Comparison score: {score:.2f}')"
      ]
    },
    {
      "cell_type": "code",
      "execution_count": null,
      "metadata": {
        "id": "_gjPR5sCzp_B"
      },
      "outputs": [],
      "source": [
        "@interact(i = (0,len(pairs[0])-1), show_local_structures = False)\n",
        "def show_pairs(i=0, show_local_structures = False):\n",
        "    show(draw_match_pairs(f1, m1, ls1, f2, m2, ls2, ref_cell_coords, pairs, i, show_local_structures))"
      ]
    },
    {
      "cell_type": "code",
      "execution_count": null,
      "metadata": {
        "id": "9pT_rQpg4n2S"
      },
      "outputs": [],
      "source": []
    }
  ],
  "metadata": {
    "colab": {
      "private_outputs": true,
      "provenance": []
    },
    "kernelspec": {
      "display_name": "Python 3",
      "language": "python",
      "name": "python3"
    },
    "language_info": {
      "codemirror_mode": {
        "name": "ipython",
        "version": 3
      },
      "file_extension": ".py",
      "mimetype": "text/x-python",
      "name": "python",
      "nbconvert_exporter": "python",
      "pygments_lexer": "ipython3",
      "version": "3.8.5"
    }
  },
  "nbformat": 4,
  "nbformat_minor": 0
}
